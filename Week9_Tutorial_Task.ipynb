{
  "nbformat": 4,
  "nbformat_minor": 0,
  "metadata": {
    "colab": {
      "provenance": []
    },
    "kernelspec": {
      "name": "python3",
      "display_name": "Python 3"
    },
    "language_info": {
      "name": "python"
    }
  },
  "cells": [
    {
      "cell_type": "markdown",
      "source": [
        "## Intro to AI 2022\n",
        "### Week 9. Evolutionary Computation\n",
        "\n",
        "Professor: Munir Makhmutov\n",
        "\n",
        "Tutorial's TA: Darko Bozhinoski\n",
        "\n",
        "**Agenda:**\n",
        "- Gentic algorithm overview\n",
        "- Function optimization \n",
        "\n",
        "\n",
        "**Tasks:**\n",
        "- fill in the gaps in the code\n",
        "- feel free to change code as you wish \n"
      ],
      "metadata": {
        "id": "6hIYEodOIIrw"
      }
    },
    {
      "cell_type": "markdown",
      "source": [
        "## Genetic Algorithms\n",
        "\n",
        "Similarly to the tomato we will make a new optimization technique for non smooth non convex problems.\n",
        "\n",
        "![alt text](https://rayenmhamdi.github.io/images/aioverview/ga.png)\n",
        "\n",
        "In order to make our own Genetic algorithm we need to define the following:\n",
        "\n",
        "1. Representation scheme (e.g genotype, phenotype, …etc)\n",
        "2. Mating operators (e.g crossover)\n",
        "3. Mutating operators (e.g bit flipping)\n",
        "4. Fitness metric\n",
        "5. Selection strategy (e.g tournament selection)\n",
        "6. Evolution strategy (e.g mu,lambda)\n"
      ],
      "metadata": {
        "id": "U5bIjuXsJV6x"
      }
    },
    {
      "cell_type": "markdown",
      "source": [
        "## Starting example: Maximize function\n",
        "> You need to find maximum of a given function on interval from 0 to 4.\n",
        "\n",
        "> Function to be maximized: \n",
        "># $f(x)=-x*(x-1)*(x-2)*(x-3)*(x-4)$\n",
        "\n",
        "![](https://github.com/RufinaMay/CV2019Fall_Pictures/blob/master/function_max.gif?raw=true)"
      ],
      "metadata": {
        "id": "jjMNJY2DgtUS"
      }
    },
    {
      "cell_type": "code",
      "execution_count": null,
      "metadata": {
        "id": "wZlpKevLgo5d"
      },
      "outputs": [],
      "source": [
        "from matplotlib import pyplot as plt\n",
        "import numpy as np\n",
        "from typing import Union, List, Tuple\n",
        "import math\n",
        "\n",
        "def plotFunction(title, finctionX, finctionY, populationX=None, populationY=None, offspringX=None, offspringY=None):\n",
        "  # helper function to display the function and population\n",
        "\n",
        "  plt.plot(finctionX,finctionY)\n",
        "  if(populationX is not None and populationX is not None):\n",
        "    plt.plot(populationX, populationY, 'o')\n",
        "  \n",
        "  if(offspringX is not None and offspringY is not None):\n",
        "    plt.plot(offspringX, offspringY, 'o')\n",
        "\n",
        "  # show the plot\n",
        "  plt.title(title)\n",
        "  plt.show()\n",
        "\n",
        "\n",
        "# function you are going to maximize: \n",
        "def fun(x):\n",
        "  return -x*(x-1)*(x-2)*(x-3)*(x-4)\n",
        "\n",
        "x = np.linspace(0,4,500)\n",
        "y = fun(x)\n",
        "\n",
        "plotFunction(\"-x*(x-1)*(x-2)*(x-3)*(x-4)\", x,y)"
      ]
    },
    {
      "cell_type": "markdown",
      "source": [
        "## Before we run the evolution process there are number of questions to be answered:\n",
        "\n",
        "### What are the individuals?\n",
        "\n",
        "In our example, numbers between 0 and 4, since we only consider this function on this interval.\n",
        "\n",
        "### How many individuals are in the first population and how are they generated?\n",
        "The number of individuals is a hyperparameter you have to make up. If you have no clue about what the solution could be, choose the initial population as random as possible.\n",
        "\n",
        "- Try to play with number of individuals in the population, how it affects final solution?\n",
        "- How will you initialize the population? What kind of distribution would you choose? \n",
        "\n",
        "### Which fitness score?\n",
        "- value of a function \n",
        "\n",
        "## How to crossover?\n",
        "\n",
        "- How many parents? \n",
        "- What will be the selection\tscheme?\n",
        "  - **Roulette\twheel\tselection**\n",
        "  - Probabilistic\tselection\tbased\ton\tfitness\n",
        "  - Rank\tselection\t\n",
        "  - Pick\tthe\tbest\tindividual\teach\ttime\n",
        "  - Tournament\tselection\t\n",
        "  - Select\tK\tindividuals,\tand\tkeep\tbest\tfor\treproduction\n",
        "\n",
        "- How do we crossover parents?\n",
        "\n",
        "  ![alt text](https://www.tutorialspoint.com/genetic_algorithms/images/roulette_wheel_selection.jpg)\n",
        "\n",
        "## When do we stop?\n",
        "- hit max iterations\n",
        "- no more change in the fitness of the population"
      ],
      "metadata": {
        "id": "NFsdaQm7jzi0"
      }
    },
    {
      "cell_type": "code",
      "source": [
        "def get_individual() -> float:\n",
        "  return np.random.uniform(0,3.8,1)[0]\n",
        "\n",
        "def get_fitness(individual: float) -> float:\n",
        "  # fitness of one individual\n",
        "  return fun(individual)\n",
        "\n",
        "def get_population(population_size: int) -> List[float]:\n",
        "  return [get_individual() for i in range(population_size)]\n",
        "\n",
        "def population_fitness(population: List[float]) -> Tuple[List[float], float]:\n",
        "  # returns list of individual's fitness and average fitness of the population\n",
        "  fitness = [get_fitness(individual) for individual in population]\n",
        "  return (fitness, np.mean(fitness))\n",
        "\n",
        "def roulette_wheel_select(fitness: List[float]) -> int:\n",
        "  # returns index of a selected parent\n",
        "  # you may use np.random.choice\n",
        "\n",
        "  ###################### put you code here ###################################\n",
        "\n",
        "\n",
        "\n",
        "  pass #replace \"pass\" with \"return\"\n",
        "  ############################################################################\n",
        "\n",
        "def crossover(population: List[float], fitness: List[float], size: int) -> List[float]:\n",
        "  # selects two parents to generate offspring\n",
        "  # this process continues \"size\" times\n",
        "  # returns list of ofssprings\n",
        "  offsprings = []\n",
        "\n",
        "  ###################### put you code here ###################################\n",
        "\n",
        "\n",
        "\n",
        "\n",
        "\n",
        "  ############################################################################\n",
        "  return offsprings\n",
        "\n",
        "def mutate(offsprings: List[float]) -> List[float]:\n",
        "  # mutates by adding some noise to the number\n",
        "  # np.random.normal might help\n",
        "\n",
        "  ###################### put you code here ###################################\n",
        "\n",
        "\n",
        "\n",
        "  pass #replace \"pass\" with \"return\"\n",
        "  ############################################################################\n",
        "\n",
        "def replace_parents(population: List[float], population_fitness: List[float], offsprings: List[float], offsprings_fitness: List[float], size: int) -> List[float]:\n",
        "  # replace \"size\" number of least fit population members\n",
        "  # with most fit \"size\" offsprings\n",
        "  # returns new population\n",
        "  sort_index = np.argsort(population_fitness)\n",
        "  population_sorted = np.take(population, sort_index)\n",
        "  sort_index = np.argsort(offsprings_fitness)\n",
        "  offsprings_sorted = np.take(offsprings, sort_index)\n",
        "\n",
        "  parents = population_sorted[size:]\n",
        "  offsprings = offsprings_sorted[-size:]\n",
        "\n",
        "  return [*parents, *offsprings]\n",
        "\n",
        "\n",
        "\n",
        "def evolution(generations: int, population_size: int):\n",
        "  population = get_population(population_size)\n",
        "\n",
        "  for generation in range(generations):\n",
        "    fitness, avg_fitness = population_fitness(population)\n",
        "\n",
        "    plotFunction(f'Generation: {generation} Population average fitness: {round(avg_fitness,3)}', x,y,population,fitness)\n",
        "    \n",
        "    offsprings = crossover(population, fitness, 5)\n",
        "    offsprings = mutate(offsprings)\n",
        "    offsprings_fitness, offsprings_fitness_avg = population_fitness(offsprings)\n",
        "    population = replace_parents(population, fitness, offsprings, offsprings_fitness, 3)\n",
        "\n",
        "\n",
        "  return population\n",
        "\n",
        "\n",
        "generations = 30\n",
        "population = evolution(generations=generations, population_size=40)\n",
        "plotFunction(f'Generation: {generations}', x,y,population, population_fitness(population)[0])"
      ],
      "metadata": {
        "id": "Bh1Fodnjldsd"
      },
      "execution_count": null,
      "outputs": []
    },
    {
      "cell_type": "markdown",
      "source": [
        "## Questions:\n",
        "- What is the effect of the initial population distribution?\n",
        "- How many individuals are required to find the solution?\n",
        "- What are the benefits and drawbacks of genetic algorithm here?\n",
        "- Will it always find a solution?\n",
        "- Is there any effect of mutation?"
      ],
      "metadata": {
        "id": "M3a16v56blBI"
      }
    }
  ]
}