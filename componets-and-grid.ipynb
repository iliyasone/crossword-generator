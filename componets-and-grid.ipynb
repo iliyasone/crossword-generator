{
 "cells": [
  {
   "cell_type": "code",
   "execution_count": 11,
   "metadata": {},
   "outputs": [
    {
     "name": "stdout",
     "output_type": "stream",
     "text": [
      "1 0 1\n",
      "1 0 0\n",
      "1 0 1\n"
     ]
    }
   ],
   "source": [
    "N = 3\n",
    "\n",
    "grid = [\n",
    "    [[1], [], [1], ],\n",
    "    [[1], [], [], ],\n",
    "    [[2], [], [3], ],\n",
    "    # [[], [1], [1], [], [1], ],\n",
    "    # [[1], [], [1], [], [], ],\n",
    "    # [[1], [], [2], [], [3], ],\n",
    "   # [[1], [], [2], [], [3], ],\n",
    "   # [[1], [], [2], [], [3], ],\n",
    "]\n",
    "\n",
    "for line in grid:\n",
    "    print(*(len(el) for el in line))\n",
    "\n"
   ]
  },
  {
   "cell_type": "code",
   "execution_count": 19,
   "metadata": {},
   "outputs": [
    {
     "name": "stdout",
     "output_type": "stream",
     "text": [
      "y=0 x=0\n",
      "he (0, 0, True) (0, 1, False)\n",
      "he (0, 0, True) (0, 1, True) (0, 2, False)\n",
      "he (0, 0, True) (0, 1, True) (0, 2, True)\n",
      "[(0, 0), (0, 1), (0, 2)]\n",
      "y=0 x=1\n",
      "y=0 x=2\n",
      "he (2, 0, True)\n",
      "[(2, 0)]\n",
      "y=1 x=0\n",
      "y=1 x=1\n",
      "y=1 x=2\n",
      "y=2 x=0\n",
      "y=2 x=1\n",
      "y=2 x=2\n",
      "he (2, 2, True)\n",
      "[(2, 2)]\n",
      "len(components)=3\n"
     ]
    }
   ],
   "source": [
    "visited = [[False] * N for _ in range(N)]\n",
    "\n",
    "components = []\n",
    "current_component = []\n",
    "centers_of_mass = []\n",
    "for y in range(N):\n",
    "    for x in range(N):\n",
    "        print(f'{y=} {x=}')\n",
    "        if x == 4 and y == 0:\n",
    "            print(\"XYYY\")\n",
    "        \n",
    "        if visited[y][x]:\n",
    "            continue\n",
    "        if len(grid[y][x]) == 0:\n",
    "            visited[y][x] = True\n",
    "            continue\n",
    "        \n",
    "        current_component = [(x,y)]\n",
    "        sum_x = sum_y = 0\n",
    "        \n",
    "        components.append(current_component)\n",
    "        \n",
    "        i = 0\n",
    "        while i < len(current_component):\n",
    "\n",
    "            cx, cy = current_component[i]\n",
    "            \n",
    "            sum_x += cx\n",
    "            sum_y += cy\n",
    "            \n",
    "            \n",
    "            i+=1\n",
    "            visited[cy][cx] = True\n",
    "            for dx, dy in (0,1),(1,0),(-1,0),(0,-1):\n",
    "                if not (0 <= cy+dy < N and 0 <= cx+dx < N):\n",
    "                    continue\n",
    "                \n",
    "                if visited[cy+dy][x+dx] or (cx+dx, cy+dy) in current_component:\n",
    "                    continue\n",
    "                \n",
    "                if len(grid[cy+dy][cx+dx]) == 0:\n",
    "                    visited[cy+dy][cx+dx] = True\n",
    "                    continue\n",
    "                \n",
    "                \n",
    "                current_component.append((cx+dx,cy+dy))\n",
    "            print('he', *((node[0], node[1],\n",
    "                    visited[node[1]][node[0]]) for node in current_component))\n",
    "            ...\n",
    "        print(current_component)    \n",
    "        centers_of_mass.append((sum_x / len(current_component), sum_y / len(current_component)))\n",
    "    \n",
    "print(f'{len(components)=}')"
   ]
  },
  {
   "cell_type": "code",
   "execution_count": 14,
   "metadata": {},
   "outputs": [
    {
     "data": {
      "text/plain": [
       "False"
      ]
     },
     "execution_count": 14,
     "metadata": {},
     "output_type": "execute_result"
    }
   ],
   "source": [
    "visited[0][2]"
   ]
  },
  {
   "cell_type": "code",
   "execution_count": 37,
   "metadata": {},
   "outputs": [
    {
     "name": "stdout",
     "output_type": "stream",
     "text": [
      "50\n"
     ]
    }
   ],
   "source": [
    "c = 0\n",
    "for y in range(5):\n",
    "    for x in range(5):\n",
    "        y = 0\n",
    "        c += x + y\n",
    "print(c)"
   ]
  },
  {
   "cell_type": "code",
   "execution_count": 30,
   "metadata": {},
   "outputs": [
    {
     "name": "stdout",
     "output_type": "stream",
     "text": [
      "x=0 y=0\n",
      "x=1 y=0\n",
      "x=2 y=0\n",
      "x=3 y=0\n",
      "x=4 y=0\n",
      "x=0 y=1\n",
      "x=1 y=1\n",
      "x=2 y=1\n",
      "x=3 y=1\n",
      "x=4 y=1\n",
      "x=0 y=2\n",
      "x=1 y=2\n",
      "x=2 y=2\n",
      "x=3 y=2\n",
      "x=4 y=2\n",
      "x=0 y=3\n",
      "x=1 y=3\n",
      "x=2 y=3\n",
      "x=3 y=3\n",
      "x=4 y=3\n",
      "x=0 y=4\n",
      "x=1 y=4\n",
      "x=2 y=4\n",
      "x=3 y=4\n",
      "x=4 y=4\n"
     ]
    }
   ],
   "source": [
    "from itertools import product\n",
    "for y, x in product(range(5),range(5)):\n",
    "        print(f'{x=} {y=}')\n",
    "        x = 0"
   ]
  },
  {
   "cell_type": "code",
   "execution_count": 60,
   "metadata": {},
   "outputs": [
    {
     "data": {
      "text/plain": [
       "[7, 11, 10, 46, 21]"
      ]
     },
     "execution_count": 60,
     "metadata": {},
     "output_type": "execute_result"
    }
   ],
   "source": [
    "import random\n",
    "\n",
    "random.seed(2)\n",
    "\n",
    "[random.randint(0,100) for _ in range(5)]"
   ]
  },
  {
   "cell_type": "code",
   "execution_count": 3,
   "metadata": {},
   "outputs": [
    {
     "name": "stdout",
     "output_type": "stream",
     "text": [
      "save ass\n",
      "6\n",
      "6\n",
      "save ass\n",
      "8\n",
      "8\n"
     ]
    }
   ],
   "source": [
    "from functools import lru_cache, cache\n",
    "\n",
    "class hash_list(list):\n",
    "    def __hash__(self) -> int:\n",
    "        return hash(tuple(self))\n",
    "\n",
    "@lru_cache\n",
    "def save_ass(a: hash_list[int]):\n",
    "    print('save ass')\n",
    "    return sum(a)\n",
    "\n",
    "l = hash_list([1,2,3])\n",
    "print(save_ass(l))\n",
    "print(save_ass(l))\n",
    "l[2] = 5\n",
    "#l = hash_list([1,2,5])\n",
    "print(save_ass(l))\n",
    "print(save_ass(l))"
   ]
  },
  {
   "cell_type": "code",
   "execution_count": 84,
   "metadata": {},
   "outputs": [
    {
     "data": {
      "text/plain": [
       "True"
      ]
     },
     "execution_count": 84,
     "metadata": {},
     "output_type": "execute_result"
    }
   ],
   "source": [
    "hash_list([1,2,5]) == hash_list([1,2,5])"
   ]
  },
  {
   "cell_type": "code",
   "execution_count": null,
   "metadata": {},
   "outputs": [],
   "source": []
  },
  {
   "cell_type": "code",
   "execution_count": 1,
   "metadata": {},
   "outputs": [
    {
     "data": {
      "text/plain": [
       "1"
      ]
     },
     "execution_count": 1,
     "metadata": {},
     "output_type": "execute_result"
    }
   ],
   "source": [
    "[1, 2, 3][not 1]"
   ]
  },
  {
   "cell_type": "code",
   "execution_count": 78,
   "metadata": {},
   "outputs": [],
   "source": [
    "@cache\n",
    "def ass_2(a: list[int]):\n",
    "    print('ass 2')\n",
    "    return sum(a)"
   ]
  },
  {
   "cell_type": "code",
   "execution_count": 79,
   "metadata": {},
   "outputs": [
    {
     "ename": "TypeError",
     "evalue": "unhashable type: 'list'",
     "output_type": "error",
     "traceback": [
      "\u001b[1;31m---------------------------------------------------------------------------\u001b[0m",
      "\u001b[1;31mTypeError\u001b[0m                                 Traceback (most recent call last)",
      "\u001b[1;32mc:\\crossword-generator\\componets-and-grid.ipynb Cell 9\u001b[0m line \u001b[0;36m1\n\u001b[1;32m----> <a href='vscode-notebook-cell:/c%3A/crossword-generator/componets-and-grid.ipynb#X11sZmlsZQ%3D%3D?line=0'>1</a>\u001b[0m ass_2([\u001b[39m1\u001b[39;49m,\u001b[39m2\u001b[39;49m,\u001b[39m3\u001b[39;49m])\n",
      "\u001b[1;31mTypeError\u001b[0m: unhashable type: 'list'"
     ]
    }
   ],
   "source": [
    "ass_2([1,2,3])"
   ]
  },
  {
   "cell_type": "code",
   "execution_count": 1,
   "metadata": {},
   "outputs": [
    {
     "name": "stdout",
     "output_type": "stream",
     "text": [
      "hice\n"
     ]
    }
   ],
   "source": [
    "for i in []:\n",
    "    print('hir')\n",
    "else:\n",
    "    print('hice')"
   ]
  }
 ],
 "metadata": {
  "kernelspec": {
   "display_name": ".venv",
   "language": "python",
   "name": "python3"
  },
  "language_info": {
   "codemirror_mode": {
    "name": "ipython",
    "version": 3
   },
   "file_extension": ".py",
   "mimetype": "text/x-python",
   "name": "python",
   "nbconvert_exporter": "python",
   "pygments_lexer": "ipython3",
   "version": "3.11.4"
  }
 },
 "nbformat": 4,
 "nbformat_minor": 2
}
